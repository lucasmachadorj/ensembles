{
 "cells": [
  {
   "cell_type": "code",
   "execution_count": 9,
   "metadata": {
    "collapsed": true
   },
   "outputs": [],
   "source": [
    "import numpy as np\n",
    "import matplotlib.pyplot as plt\n",
    "from sklearn.tree import DecisionTreeRegressor\n",
    "from sklearn.utils import shuffle\n",
    "\n",
    "% matplotlib inline"
   ]
  },
  {
   "cell_type": "code",
   "execution_count": 2,
   "metadata": {
    "collapsed": true
   },
   "outputs": [],
   "source": [
    "T = 100\n",
    "x_axis = np.linspace(0, 2*np.pi, T)\n",
    "y_axis = np.sin(x_axis)\n"
   ]
  },
  {
   "cell_type": "code",
   "execution_count": 7,
   "metadata": {
    "collapsed": false
   },
   "outputs": [
    {
     "name": "stdout",
     "output_type": "stream",
     "text": [
      "score for 1 tree: 0.983661837209\n"
     ]
    }
   ],
   "source": [
    "N = 30\n",
    "idx = np.random.choice(T, size=N, replace=False)\n",
    "Xtrain = x_axis[idx].reshape(N,1)\n",
    "Ytrain = y_axis[idx]\n",
    "\n",
    "model = DecisionTreeRegressor()\n",
    "model.fit(Xtrain, Ytrain)\n",
    "prediction = model.predict(x_axis.reshape(T,1))\n",
    "print 'score for 1 tree: {}'.format(model.score(x_axis.reshape(T, 1), y_axis))"
   ]
  },
  {
   "cell_type": "code",
   "execution_count": 10,
   "metadata": {
    "collapsed": false
   },
   "outputs": [
    {
     "data": {
      "image/png": "[encoded data removed]",
      "text/plain": [
       "<matplotlib.figure.Figure at 0x7f41ab96d150>"
      ]
     },
     "metadata": {},
     "output_type": "display_data"
    }
   ],
   "source": [
    "plt.plot(x_axis, prediction)\n",
    "plt.plot(x_axis, y_axis)\n",
    "plt.show()"
   ]
  },
  {
   "cell_type": "code",
   "execution_count": 23,
   "metadata": {
    "collapsed": false
   },
   "outputs": [],
   "source": [
    "class BaggedTreeRegressor:\n",
    "    def __init__(self, B):\n",
    "        self.B = B\n",
    "        \n",
    "    def fit(self, X, Y):\n",
    "        N = len(X)\n",
    "        self.models = []\n",
    "        for b in xrange(self.B):\n",
    "            idx = np.random.choice(N, size=N, replace=True)\n",
    "            Xb = X[idx]\n",
    "            Yb = Y[idx]\n",
    "            \n",
    "            model = DecisionTreeRegressor()\n",
    "            model.fit(Xb, Yb)\n",
    "            self.models.append(model)\n",
    "            \n",
    "    def predict(self, X):\n",
    "        predictions = np.zeros(len(X))\n",
    "        for model in self.models:\n",
    "            predictions += model.predict(X)\n",
    "        return predictions / self.B\n",
    "    \n",
    "    def score(self, X, Y):\n",
    "        d1 = Y - self.predict(X)\n",
    "        d2 = Y - Y.mean()\n",
    "        return 1 - d1.dot(d1) / d2.dot(d2)\n",
    "    \n",
    "    "
   ]
  },
  {
   "cell_type": "code",
   "execution_count": 25,
   "metadata": {
    "collapsed": false
   },
   "outputs": [
    {
     "name": "stdout",
     "output_type": "stream",
     "text": [
      "score for bagged tree: 0.994337903111\n"
     ]
    }
   ],
   "source": [
    "model = BaggedTreeRegressor(200)\n",
    "model.fit(Xtrain, Ytrain)\n",
    "print \"score for bagged tree: {}\".format(model.score(x_axis.reshape(T, 1), y_axis))"
   ]
  },
  {
   "cell_type": "code",
   "execution_count": 26,
   "metadata": {
    "collapsed": true
   },
   "outputs": [],
   "source": [
    "prediction = model.predict(x_axis.reshape(T, 1))"
   ]
  },
  {
   "cell_type": "code",
   "execution_count": 27,
   "metadata": {
    "collapsed": false
   },
   "outputs": [
    {
     "data": {
      "image/png": "[encoded data removed]",
      "text/plain": [
       "<matplotlib.figure.Figure at 0x7f41ab6a5d50>"
      ]
     },
     "metadata": {},
     "output_type": "display_data"
    }
   ],
   "source": [
    "plt.plot(x_axis, prediction)\n",
    "plt.plot(x_axis, y_axis)\n",
    "plt.show()"
   ]
  },
  {
   "cell_type": "code",
   "execution_count": null,
   "metadata": {
    "collapsed": true
   },
   "outputs": [],
   "source": []
  }
 ],
 "metadata": {
  "kernelspec": {
   "display_name": "Python 2",
   "language": "python",
   "name": "python2"
  },
  "language_info": {
   "codemirror_mode": {
    "name": "ipython",
    "version": 2
   },
   "file_extension": ".py",
   "mimetype": "text/x-python",
   "name": "python",
   "nbconvert_exporter": "python",
   "pygments_lexer": "ipython2",
   "version": "2.7.6"
  }
 },
 "nbformat": 4,
 "nbformat_minor": 0
}
