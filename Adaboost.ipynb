{
 "cells": [
  {
   "cell_type": "code",
   "execution_count": 1,
   "metadata": {
    "collapsed": true
   },
   "outputs": [],
   "source": [
    "import numpy as np\n",
    "import matplotlib.pyplot as plt\n",
    "from sklearn.tree import DecisionTreeClassifier"
   ]
  },
  {
   "cell_type": "code",
   "execution_count": null,
   "metadata": {
    "collapsed": true
   },
   "outputs": [],
   "source": [
    "class AdaBoost:\n",
    "    def __init__(self, M):\n",
    "        self.M = M\n",
    "        \n",
    "    def fit(self, X, Y):\n",
    "        self.models = []\n",
    "        self.alphas = []\n",
    "        \n",
    "        N, _ = X.shape\n",
    "        W = np.ones(N) / N\n",
    "        \n",
    "        for m in range(self.M):\n",
    "            tree = DecisionTreeClassifier(max_depth=1)\n",
    "            tree.fit(X, Y, sample_weight=W)\n",
    "            P = tree.predict(X)\n",
    "            err = W.dot(P != Y)\n",
    "            alpha = 0.5*(np.log(1 - err) - np.log(err))\n",
    "            \n",
    "            W = W*np.exp(-alpha*Y*P)\n",
    "            W = W / W.sum() # normalize\n",
    "            \n",
    "            self.models.append(tree)\n",
    "            self.alphas.append(alpha)\n",
    "            \n",
    "    def predict(self, X):\n",
    "        N, _ = X.shape\n",
    "        FX = np.zeros(N)\n",
    "        for alpha, tree in zip(self.alphas, self.models):\n",
    "            FX += alpha*tree.predict(X)\n",
    "        return np.sign(FX), FX\n",
    "    \n",
    "    "
   ]
  }
 ],
 "metadata": {
  "kernelspec": {
   "display_name": "Python 2",
   "language": "python",
   "name": "python2"
  },
  "language_info": {
   "codemirror_mode": {
    "name": "ipython",
    "version": 2
   },
   "file_extension": ".py",
   "mimetype": "text/x-python",
   "name": "python",
   "nbconvert_exporter": "python",
   "pygments_lexer": "ipython2",
   "version": "2.7.6"
  }
 },
 "nbformat": 4,
 "nbformat_minor": 0
}
